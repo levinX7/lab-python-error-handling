{
 "cells": [
  {
   "cell_type": "markdown",
   "id": "25d7736c-ba17-4aff-b6bb-66eba20fbf4e",
   "metadata": {},
   "source": [
    "# Lab | Error Handling"
   ]
  },
  {
   "cell_type": "markdown",
   "id": "bc99b386-7508-47a0-bcdb-d969deaf6c8b",
   "metadata": {},
   "source": [
    "## Exercise: Error Handling for Managing Customer Orders\n",
    "\n",
    "The implementation of your code for managing customer orders assumes that the user will always enter a valid input. \n",
    "\n",
    "For example, we could modify the `initialize_inventory` function to include error handling.\n",
    "   - If the user enters an invalid quantity (e.g., a negative value or a non-numeric value), display an error message and ask them to re-enter the quantity for that product.\n",
    "   - Use a try-except block to handle the error and continue prompting the user until a valid quantity is entered.\n",
    "\n",
    "```python\n",
    "# Step 1: Define the function for initializing the inventory with error handling\n",
    "def initialize_inventory(products):\n",
    "    inventory = {}\n",
    "    for product in products:\n",
    "        valid_quantity = False\n",
    "        while not valid_quantity:\n",
    "            try:\n",
    "                quantity = int(input(f\"Enter the quantity of {product}s available: \"))\n",
    "                if quantity < 0:\n",
    "                    raise ValueError(\"Invalid quantity! Please enter a non-negative value.\")\n",
    "                valid_quantity = True\n",
    "            except ValueError as error:\n",
    "                print(f\"Error: {error}\")\n",
    "        inventory[product] = quantity\n",
    "    return inventory\n",
    "\n",
    "# Or, in another way:\n",
    "\n",
    "def initialize_inventory(products):\n",
    "    inventory = {}\n",
    "    for product in products:\n",
    "        valid_input = False\n",
    "        while not valid_input:\n",
    "            try:\n",
    "                quantity = int(input(f\"Enter the quantity of {product}s available: \"))\n",
    "                if quantity >= 0:\n",
    "                    inventory[product] = quantity\n",
    "                    valid_input = True\n",
    "                else:\n",
    "                    print(\"Quantity cannot be negative. Please enter a valid quantity.\")\n",
    "            except ValueError:\n",
    "                print(\"Invalid input. Please enter a valid quantity.\")\n",
    "    return inventory\n",
    "```\n",
    "\n",
    "Let's enhance your code by implementing error handling to handle invalid inputs.\n",
    "\n",
    "Follow the steps below to complete the exercise:\n",
    "\n",
    "2. Modify the `calculate_total_price` function to include error handling.\n",
    "   - If the user enters an invalid price (e.g., a negative value or a non-numeric value), display an error message and ask them to re-enter the price for that product.\n",
    "   - Use a try-except block to handle the error and continue prompting the user until a valid price is entered.\n",
    "\n",
    "3. Modify the `get_customer_orders` function to include error handling.\n",
    "   - If the user enters an invalid number of orders (e.g., a negative value or a non-numeric value), display an error message and ask them to re-enter the number of orders.\n",
    "   - If the user enters an invalid product name (e.g., a product name that is not in the inventory), or that doesn't have stock available, display an error message and ask them to re-enter the product name. *Hint: you will need to pass inventory as a parameter*\n",
    "   - Use a try-except block to handle the error and continue prompting the user until a valid product name is entered.\n",
    "\n",
    "4. Test your code by running the program and deliberately entering invalid quantities and product names. Make sure the error handling mechanism works as expected.\n"
   ]
  },
  {
   "cell_type": "code",
   "execution_count": 89,
   "id": "1fe568b5-6167-4cd1-92fa-f2d411679480",
   "metadata": {},
   "outputs": [],
   "source": [
    "def initialize_inventory(products):\n",
    "    inventory = {}\n",
    "    for product in products:\n",
    "        valid_input = False\n",
    "        while not valid_input:\n",
    "            try:\n",
    "                quantity = int(input(f\"Enter the quantity of {product}s available: \"))\n",
    "                if quantity >= 0:\n",
    "                    inventory[product] = quantity\n",
    "                    valid_input = True\n",
    "                else:\n",
    "                    print(\"Quantity cannot be negative. Please enter a valid quantity.\")\n",
    "            except ValueError:\n",
    "                print(\"Invalid input. Please enter a valid quantity.\")\n",
    "    return inventory"
   ]
  },
  {
   "cell_type": "code",
   "execution_count": 91,
   "id": "9be06b11-3223-4aee-9b87-01d49f8732d2",
   "metadata": {},
   "outputs": [],
   "source": [
    "#3\n",
    "def get_customer_orders(inventory, products):\n",
    "    valid_input = False\n",
    "    while not valid_input:\n",
    "        print(\"Here is the current list of products: \")\n",
    "        print(products)\n",
    "        try:\n",
    "            number = int(input(\"Enter the quantity of products you want to order: \"))\n",
    "            if number > 0:\n",
    "                valid_input = True\n",
    "            else:\n",
    "                print(\"The quantity of orders to be positive!\")\n",
    "        except ValueError:\n",
    "            print(\"Invalid input. Please enter a valid quantity.\")\n",
    "    \n",
    "    customer_orders = set()\n",
    "    for i in range(number):\n",
    "        valid_input1 = False\n",
    "        while not valid_input1:\n",
    "            try:\n",
    "                x = input(\"Enter the product Name: \")\n",
    "                if x in inventory and inventory[x] > 0:\n",
    "                    customer_orders.add(x)\n",
    "                    valid_input1 = True\n",
    "                else:\n",
    "                    print(\"Name not in inventory or inventory at 0\")\n",
    "            except ValueError:\n",
    "                print(\"Invalid input. Please enter a valid quantity.\")\n",
    "                      \n",
    "    return customer_orders"
   ]
  },
  {
   "cell_type": "code",
   "execution_count": 93,
   "id": "6625bcf4-a4be-4e91-b23c-9e5f0ed69d52",
   "metadata": {},
   "outputs": [],
   "source": [
    "def update_inventory(customer_orders, inventory):\n",
    "    inventory = {product: inventory[product] - 1 if product in customer_orders else inventory[product] for product in inventory if (inventory[product] - 1 if product in customer_orders else inventory[product]) > 0}\n",
    "    return(inventory)"
   ]
  },
  {
   "cell_type": "code",
   "execution_count": 95,
   "id": "4de89acf-0176-49fa-937b-e71b10ad21d2",
   "metadata": {},
   "outputs": [],
   "source": [
    "def calculate_order_statistics(customer_orders, products):\n",
    "    total_products_ordered = len(customer_orders)\n",
    "\n",
    "    total_products = sum(inventory.values())\n",
    "    \n",
    "    percentage_products_ordered = (total_products_ordered / total_products)*100\n",
    "\n",
    "    order_statistics = (total_products_ordered, percentage_products_ordered)\n",
    "    \n",
    "    return(order_statistics)"
   ]
  },
  {
   "cell_type": "code",
   "execution_count": 97,
   "id": "0a214c75-7b8d-4c3d-80f4-164118f09cbb",
   "metadata": {},
   "outputs": [],
   "source": [
    "def print_order_statistics(order_statistics):\n",
    "    print(\"Order Statistics: \")\n",
    "    print(\"Total Products Ordered: \"+str(order_statistics[0]))\n",
    "    print(f\"Percentage of Products Ordered: {order_statistics[1]:.2f}%\")"
   ]
  },
  {
   "cell_type": "code",
   "execution_count": 99,
   "id": "c9266395-1ce8-4dd7-afb8-cb8f7ecc3f69",
   "metadata": {},
   "outputs": [],
   "source": [
    "def print_updated_inventory(inventory):\n",
    "    print(inventory)"
   ]
  },
  {
   "cell_type": "code",
   "execution_count": 101,
   "id": "a2b4c7ef-520c-42a8-b595-3aa7d96809da",
   "metadata": {},
   "outputs": [],
   "source": [
    "#2\n",
    "def total_price(customer_orders):\n",
    "    total = 0\n",
    "    customer_orders = list(customer_orders)\n",
    "    for i in range(len(customer_orders)):\n",
    "        valid_input = False\n",
    "        while not valid_input:\n",
    "            try:\n",
    "                price = float(input(\"What is the price of: \"+customer_orders[i]))\n",
    "                if price >= 0:\n",
    "                    total = total + price\n",
    "                    valid_input = True\n",
    "                else:\n",
    "                    print(\"Price can only be positive!\")\n",
    "            except ValueError:\n",
    "                 print(\"Invalid input. Please enter a valid price.\")\n",
    "    return(\"Total Price: \"+str(total)) "
   ]
  },
  {
   "cell_type": "code",
   "execution_count": 103,
   "id": "0ef8d158-67ae-4ec2-940b-a474b1a7086c",
   "metadata": {},
   "outputs": [
    {
     "name": "stdin",
     "output_type": "stream",
     "text": [
      "Enter the quantity of tshirts available:  1\n",
      "Enter the quantity of mugs available:  2\n",
      "Enter the quantity of hats available:  l\n"
     ]
    },
    {
     "name": "stdout",
     "output_type": "stream",
     "text": [
      "Invalid input. Please enter a valid quantity.\n"
     ]
    },
    {
     "name": "stdin",
     "output_type": "stream",
     "text": [
      "Enter the quantity of hats available:  3\n",
      "Enter the quantity of books available:  4\n",
      "Enter the quantity of keychains available:  5\n"
     ]
    },
    {
     "name": "stdout",
     "output_type": "stream",
     "text": [
      "Here is the current list of products: \n",
      "['tshirt', 'mug', 'hat', 'book', 'keychain']\n"
     ]
    },
    {
     "name": "stdin",
     "output_type": "stream",
     "text": [
      "Enter the quantity of products you want to order:  2\n",
      "Enter the product Name:  l\n"
     ]
    },
    {
     "name": "stdout",
     "output_type": "stream",
     "text": [
      "Name not in inventory or inventory at 0\n"
     ]
    },
    {
     "name": "stdin",
     "output_type": "stream",
     "text": [
      "Enter the product Name:  -1\n"
     ]
    },
    {
     "name": "stdout",
     "output_type": "stream",
     "text": [
      "Name not in inventory or inventory at 0\n"
     ]
    },
    {
     "name": "stdin",
     "output_type": "stream",
     "text": [
      "Enter the product Name:  2\n"
     ]
    },
    {
     "name": "stdout",
     "output_type": "stream",
     "text": [
      "Name not in inventory or inventory at 0\n"
     ]
    },
    {
     "name": "stdin",
     "output_type": "stream",
     "text": [
      "Enter the product Name:  tshirt\n",
      "Enter the product Name:  book\n"
     ]
    },
    {
     "name": "stdout",
     "output_type": "stream",
     "text": [
      "{'book', 'tshirt'}\n",
      "{'mug': 2, 'hat': 3, 'book': 3, 'keychain': 5}\n"
     ]
    },
    {
     "name": "stdin",
     "output_type": "stream",
     "text": [
      "What is the price of: book -1\n"
     ]
    },
    {
     "name": "stdout",
     "output_type": "stream",
     "text": [
      "Price can only be positive!\n"
     ]
    },
    {
     "name": "stdin",
     "output_type": "stream",
     "text": [
      "What is the price of: book l\n"
     ]
    },
    {
     "name": "stdout",
     "output_type": "stream",
     "text": [
      "Invalid input. Please enter a valid price.\n"
     ]
    },
    {
     "name": "stdin",
     "output_type": "stream",
     "text": [
      "What is the price of: book 12\n",
      "What is the price of: tshirt 5\n"
     ]
    },
    {
     "name": "stdout",
     "output_type": "stream",
     "text": [
      "Total Price: 17.0\n"
     ]
    }
   ],
   "source": [
    "products = [\"tshirt\",\"mug\",\"hat\",\"book\",\"keychain\"]\n",
    "\n",
    "inventory = initialize_inventory(products)\n",
    "customer_orders = get_customer_orders(inventory, products)\n",
    "print(customer_orders)\n",
    "inventory = update_inventory(customer_orders, inventory)\n",
    "print(inventory)\n",
    "summ = total_price(customer_orders)\n",
    "print(summ)"
   ]
  },
  {
   "cell_type": "code",
   "execution_count": null,
   "id": "72dff1df-c5f7-46c4-bb20-57e0630464fb",
   "metadata": {},
   "outputs": [],
   "source": []
  }
 ],
 "metadata": {
  "kernelspec": {
   "display_name": "Python [conda env:base] *",
   "language": "python",
   "name": "conda-base-py"
  },
  "language_info": {
   "codemirror_mode": {
    "name": "ipython",
    "version": 3
   },
   "file_extension": ".py",
   "mimetype": "text/x-python",
   "name": "python",
   "nbconvert_exporter": "python",
   "pygments_lexer": "ipython3",
   "version": "3.12.7"
  }
 },
 "nbformat": 4,
 "nbformat_minor": 5
}
